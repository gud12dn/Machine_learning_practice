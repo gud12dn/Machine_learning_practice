{
 "cells": [
  {
   "cell_type": "code",
   "execution_count": 1,
   "id": "1dde7e01-919f-4c86-b727-f87f22000002",
   "metadata": {},
   "outputs": [],
   "source": [
    "import pandas as pd \n",
    "import numpy as np\n",
    "import matplotlib.pyplot as plt\n",
    "import seaborn as sns\n",
    "import ssl\n",
    "\n",
    "ssl._create_default_https_context = ssl._create_unverified_context\n",
    "\n",
    "file_url = 'https://media.githubusercontent.com/media/musthave-ML10/data_source/main/car.csv'\n",
    "data = pd.read_csv(file_url)  \n",
    "\n"
   ]
  },
  {
   "cell_type": "code",
   "execution_count": 2,
   "id": "132a9e8a-2883-44d8-8b73-4465d7befe2b",
   "metadata": {},
   "outputs": [
    {
     "data": {
      "text/html": [
       "<div>\n",
       "<style scoped>\n",
       "    .dataframe tbody tr th:only-of-type {\n",
       "        vertical-align: middle;\n",
       "    }\n",
       "\n",
       "    .dataframe tbody tr th {\n",
       "        vertical-align: top;\n",
       "    }\n",
       "\n",
       "    .dataframe thead th {\n",
       "        text-align: right;\n",
       "    }\n",
       "</style>\n",
       "<table border=\"1\" class=\"dataframe\">\n",
       "  <thead>\n",
       "    <tr style=\"text-align: right;\">\n",
       "      <th></th>\n",
       "      <th>name</th>\n",
       "      <th>year</th>\n",
       "      <th>selling_price</th>\n",
       "      <th>km_driven</th>\n",
       "      <th>fuel</th>\n",
       "      <th>seller_type</th>\n",
       "      <th>transmission</th>\n",
       "      <th>owner</th>\n",
       "      <th>mileage</th>\n",
       "      <th>engine</th>\n",
       "      <th>max_power</th>\n",
       "      <th>torque</th>\n",
       "      <th>seats</th>\n",
       "    </tr>\n",
       "  </thead>\n",
       "  <tbody>\n",
       "    <tr>\n",
       "      <th>0</th>\n",
       "      <td>Maruti Swift Dzire VDI</td>\n",
       "      <td>2014</td>\n",
       "      <td>450000</td>\n",
       "      <td>145500</td>\n",
       "      <td>Diesel</td>\n",
       "      <td>Individual</td>\n",
       "      <td>Manual</td>\n",
       "      <td>First Owner</td>\n",
       "      <td>23.4 kmpl</td>\n",
       "      <td>1248 CC</td>\n",
       "      <td>74 bhp</td>\n",
       "      <td>190Nm@ 2000rpm</td>\n",
       "      <td>5.0</td>\n",
       "    </tr>\n",
       "    <tr>\n",
       "      <th>1</th>\n",
       "      <td>Skoda Rapid 1.5 TDI Ambition</td>\n",
       "      <td>2014</td>\n",
       "      <td>370000</td>\n",
       "      <td>120000</td>\n",
       "      <td>Diesel</td>\n",
       "      <td>Individual</td>\n",
       "      <td>Manual</td>\n",
       "      <td>Second Owner</td>\n",
       "      <td>21.14 kmpl</td>\n",
       "      <td>1498 CC</td>\n",
       "      <td>103.52 bhp</td>\n",
       "      <td>250Nm@ 1500-2500rpm</td>\n",
       "      <td>5.0</td>\n",
       "    </tr>\n",
       "    <tr>\n",
       "      <th>2</th>\n",
       "      <td>Honda City 2017-2020 EXi</td>\n",
       "      <td>2006</td>\n",
       "      <td>158000</td>\n",
       "      <td>140000</td>\n",
       "      <td>Petrol</td>\n",
       "      <td>Individual</td>\n",
       "      <td>Manual</td>\n",
       "      <td>Third Owner</td>\n",
       "      <td>17.7 kmpl</td>\n",
       "      <td>1497 CC</td>\n",
       "      <td>78 bhp</td>\n",
       "      <td>12.7@ 2,700(kgm@ rpm)</td>\n",
       "      <td>5.0</td>\n",
       "    </tr>\n",
       "    <tr>\n",
       "      <th>3</th>\n",
       "      <td>Hyundai i20 Sportz Diesel</td>\n",
       "      <td>2010</td>\n",
       "      <td>225000</td>\n",
       "      <td>127000</td>\n",
       "      <td>Diesel</td>\n",
       "      <td>Individual</td>\n",
       "      <td>Manual</td>\n",
       "      <td>First Owner</td>\n",
       "      <td>23.0 kmpl</td>\n",
       "      <td>1396 CC</td>\n",
       "      <td>90 bhp</td>\n",
       "      <td>22.4 kgm at 1750-2750rpm</td>\n",
       "      <td>5.0</td>\n",
       "    </tr>\n",
       "    <tr>\n",
       "      <th>4</th>\n",
       "      <td>Maruti Swift VXI BSIII</td>\n",
       "      <td>2007</td>\n",
       "      <td>130000</td>\n",
       "      <td>120000</td>\n",
       "      <td>Petrol</td>\n",
       "      <td>Individual</td>\n",
       "      <td>Manual</td>\n",
       "      <td>First Owner</td>\n",
       "      <td>16.1 kmpl</td>\n",
       "      <td>1298 CC</td>\n",
       "      <td>88.2 bhp</td>\n",
       "      <td>11.5@ 4,500(kgm@ rpm)</td>\n",
       "      <td>5.0</td>\n",
       "    </tr>\n",
       "  </tbody>\n",
       "</table>\n",
       "</div>"
      ],
      "text/plain": [
       "                           name  year  selling_price  km_driven    fuel  \\\n",
       "0        Maruti Swift Dzire VDI  2014         450000     145500  Diesel   \n",
       "1  Skoda Rapid 1.5 TDI Ambition  2014         370000     120000  Diesel   \n",
       "2      Honda City 2017-2020 EXi  2006         158000     140000  Petrol   \n",
       "3     Hyundai i20 Sportz Diesel  2010         225000     127000  Diesel   \n",
       "4        Maruti Swift VXI BSIII  2007         130000     120000  Petrol   \n",
       "\n",
       "  seller_type transmission         owner     mileage   engine   max_power  \\\n",
       "0  Individual       Manual   First Owner   23.4 kmpl  1248 CC      74 bhp   \n",
       "1  Individual       Manual  Second Owner  21.14 kmpl  1498 CC  103.52 bhp   \n",
       "2  Individual       Manual   Third Owner   17.7 kmpl  1497 CC      78 bhp   \n",
       "3  Individual       Manual   First Owner   23.0 kmpl  1396 CC      90 bhp   \n",
       "4  Individual       Manual   First Owner   16.1 kmpl  1298 CC    88.2 bhp   \n",
       "\n",
       "                     torque  seats  \n",
       "0            190Nm@ 2000rpm    5.0  \n",
       "1       250Nm@ 1500-2500rpm    5.0  \n",
       "2     12.7@ 2,700(kgm@ rpm)    5.0  \n",
       "3  22.4 kgm at 1750-2750rpm    5.0  \n",
       "4     11.5@ 4,500(kgm@ rpm)    5.0  "
      ]
     },
     "execution_count": 2,
     "metadata": {},
     "output_type": "execute_result"
    }
   ],
   "source": [
    "data.head()"
   ]
  },
  {
   "cell_type": "code",
   "execution_count": 3,
   "id": "edaa2c09-70a0-483d-a065-7ef942885626",
   "metadata": {},
   "outputs": [
    {
     "name": "stdout",
     "output_type": "stream",
     "text": [
      "<class 'pandas.core.frame.DataFrame'>\n",
      "RangeIndex: 8128 entries, 0 to 8127\n",
      "Data columns (total 13 columns):\n",
      " #   Column         Non-Null Count  Dtype  \n",
      "---  ------         --------------  -----  \n",
      " 0   name           8128 non-null   object \n",
      " 1   year           8128 non-null   int64  \n",
      " 2   selling_price  8128 non-null   int64  \n",
      " 3   km_driven      8128 non-null   int64  \n",
      " 4   fuel           8128 non-null   object \n",
      " 5   seller_type    8128 non-null   object \n",
      " 6   transmission   8128 non-null   object \n",
      " 7   owner          8128 non-null   object \n",
      " 8   mileage        7907 non-null   object \n",
      " 9   engine         7907 non-null   object \n",
      " 10  max_power      7913 non-null   object \n",
      " 11  torque         7906 non-null   object \n",
      " 12  seats          7907 non-null   float64\n",
      "dtypes: float64(1), int64(3), object(9)\n",
      "memory usage: 825.6+ KB\n"
     ]
    }
   ],
   "source": [
    "data.info() #4개의 숫자형 변수, 9개의 object 변수 확인 가능 \n",
    "# 또한 mileage, engine, max_power, torque, seats null값 존재 "
   ]
  },
  {
   "cell_type": "code",
   "execution_count": 4,
   "id": "be1f1136-b996-4d22-ae23-b63d29ce6952",
   "metadata": {},
   "outputs": [
    {
     "data": {
      "text/plain": [
       "0       [1248, CC]\n",
       "1       [1498, CC]\n",
       "2       [1497, CC]\n",
       "3       [1396, CC]\n",
       "4       [1298, CC]\n",
       "           ...    \n",
       "8123    [1197, CC]\n",
       "8124    [1493, CC]\n",
       "8125    [1248, CC]\n",
       "8126    [1396, CC]\n",
       "8127    [1396, CC]\n",
       "Name: engine, Length: 8128, dtype: object"
      ]
     },
     "execution_count": 4,
     "metadata": {},
     "output_type": "execute_result"
    }
   ],
   "source": [
    "# engine 변수 전처리\n",
    "\n",
    "data['engine'].str.split()"
   ]
  },
  {
   "cell_type": "code",
   "execution_count": 5,
   "id": "53f49548-039c-4b41-9dec-b6b8e800d3f1",
   "metadata": {},
   "outputs": [
    {
     "data": {
      "text/plain": [
       "0       [124,  CC]\n",
       "1       [149,  CC]\n",
       "2        [1497 CC]\n",
       "3        [1396 CC]\n",
       "4       [129,  CC]\n",
       "           ...    \n",
       "8123     [1197 CC]\n",
       "8124     [1493 CC]\n",
       "8125    [124,  CC]\n",
       "8126     [1396 CC]\n",
       "8127     [1396 CC]\n",
       "Name: engine, Length: 8128, dtype: object"
      ]
     },
     "execution_count": 5,
     "metadata": {},
     "output_type": "execute_result"
    }
   ],
   "source": [
    "data['engine'].str.split('8')"
   ]
  },
  {
   "cell_type": "code",
   "execution_count": 6,
   "id": "c92e0d64-0b85-432b-ac6b-be3882bc71bb",
   "metadata": {},
   "outputs": [
    {
     "data": {
      "text/html": [
       "<div>\n",
       "<style scoped>\n",
       "    .dataframe tbody tr th:only-of-type {\n",
       "        vertical-align: middle;\n",
       "    }\n",
       "\n",
       "    .dataframe tbody tr th {\n",
       "        vertical-align: top;\n",
       "    }\n",
       "\n",
       "    .dataframe thead th {\n",
       "        text-align: right;\n",
       "    }\n",
       "</style>\n",
       "<table border=\"1\" class=\"dataframe\">\n",
       "  <thead>\n",
       "    <tr style=\"text-align: right;\">\n",
       "      <th></th>\n",
       "      <th>0</th>\n",
       "      <th>1</th>\n",
       "    </tr>\n",
       "  </thead>\n",
       "  <tbody>\n",
       "    <tr>\n",
       "      <th>0</th>\n",
       "      <td>1248</td>\n",
       "      <td>CC</td>\n",
       "    </tr>\n",
       "    <tr>\n",
       "      <th>1</th>\n",
       "      <td>1498</td>\n",
       "      <td>CC</td>\n",
       "    </tr>\n",
       "    <tr>\n",
       "      <th>2</th>\n",
       "      <td>1497</td>\n",
       "      <td>CC</td>\n",
       "    </tr>\n",
       "    <tr>\n",
       "      <th>3</th>\n",
       "      <td>1396</td>\n",
       "      <td>CC</td>\n",
       "    </tr>\n",
       "    <tr>\n",
       "      <th>4</th>\n",
       "      <td>1298</td>\n",
       "      <td>CC</td>\n",
       "    </tr>\n",
       "    <tr>\n",
       "      <th>...</th>\n",
       "      <td>...</td>\n",
       "      <td>...</td>\n",
       "    </tr>\n",
       "    <tr>\n",
       "      <th>8123</th>\n",
       "      <td>1197</td>\n",
       "      <td>CC</td>\n",
       "    </tr>\n",
       "    <tr>\n",
       "      <th>8124</th>\n",
       "      <td>1493</td>\n",
       "      <td>CC</td>\n",
       "    </tr>\n",
       "    <tr>\n",
       "      <th>8125</th>\n",
       "      <td>1248</td>\n",
       "      <td>CC</td>\n",
       "    </tr>\n",
       "    <tr>\n",
       "      <th>8126</th>\n",
       "      <td>1396</td>\n",
       "      <td>CC</td>\n",
       "    </tr>\n",
       "    <tr>\n",
       "      <th>8127</th>\n",
       "      <td>1396</td>\n",
       "      <td>CC</td>\n",
       "    </tr>\n",
       "  </tbody>\n",
       "</table>\n",
       "<p>8128 rows × 2 columns</p>\n",
       "</div>"
      ],
      "text/plain": [
       "         0   1\n",
       "0     1248  CC\n",
       "1     1498  CC\n",
       "2     1497  CC\n",
       "3     1396  CC\n",
       "4     1298  CC\n",
       "...    ...  ..\n",
       "8123  1197  CC\n",
       "8124  1493  CC\n",
       "8125  1248  CC\n",
       "8126  1396  CC\n",
       "8127  1396  CC\n",
       "\n",
       "[8128 rows x 2 columns]"
      ]
     },
     "execution_count": 6,
     "metadata": {},
     "output_type": "execute_result"
    }
   ],
   "source": [
    "data['engine'].str.split(expand=True) # 공백 기준으로 문자를 분할하여 별도의 변수로 출력"
   ]
  },
  {
   "cell_type": "code",
   "execution_count": 7,
   "id": "75b84c55-87ce-418b-aa31-b3819d225ddb",
   "metadata": {},
   "outputs": [],
   "source": [
    "data[['engine','engine_unit']]= data['engine'].str.split(expand=True) #분할된 문자들을 새로운 변수들(engine, engine_unit)로 저장"
   ]
  },
  {
   "cell_type": "code",
   "execution_count": 8,
   "id": "b6c22a81-9fb2-4dec-b0f2-e599de121518",
   "metadata": {},
   "outputs": [
    {
     "data": {
      "text/plain": [
       "0    1248\n",
       "1    1498\n",
       "2    1497\n",
       "3    1396\n",
       "4    1298\n",
       "Name: engine, dtype: object"
      ]
     },
     "execution_count": 8,
     "metadata": {},
     "output_type": "execute_result"
    }
   ],
   "source": [
    "data['engine'].head()"
   ]
  },
  {
   "cell_type": "code",
   "execution_count": 9,
   "id": "2a92d64d-56c5-4a91-980a-c62a4fee16a3",
   "metadata": {},
   "outputs": [
    {
     "data": {
      "text/plain": [
       "array(['1248', '1498', '1497', '1396', '1298', '1197', '1061', '796',\n",
       "       '1364', '1399', '1461', '993', nan, '1198', '1199', '998', '1591',\n",
       "       '2179', '1368', '2982', '2494', '2143', '2477', '1462', '2755',\n",
       "       '1968', '1798', '1196', '1373', '1598', '1998', '1086', '1194',\n",
       "       '1172', '1405', '1582', '999', '2487', '1999', '3604', '2987',\n",
       "       '1995', '1451', '1969', '2967', '2497', '1797', '1991', '2362',\n",
       "       '1493', '1599', '1341', '1794', '799', '1193', '2696', '1495',\n",
       "       '1186', '1047', '2498', '2956', '2523', '1120', '624', '1496',\n",
       "       '1984', '2354', '814', '793', '1799', '936', '1956', '1997',\n",
       "       '1499', '1948', '2997', '2489', '2499', '2609', '2953', '1150',\n",
       "       '1994', '1388', '1527', '2199', '995', '2993', '1586', '1390',\n",
       "       '909', '2393', '3198', '1339', '2835', '2092', '1595', '2496',\n",
       "       '1596', '1597', '2596', '2148', '1299', '1590', '2231', '2694',\n",
       "       '2200', '1795', '1896', '1796', '1422', '1489', '2359', '2197',\n",
       "       '2999', '1781', '2650', '1343', '2446', '3498', '2198', '2776',\n",
       "       '1950'], dtype=object)"
      ]
     },
     "execution_count": 9,
     "metadata": {},
     "output_type": "execute_result"
    }
   ],
   "source": [
    "data['engine'].unique() # 고윳값 확인"
   ]
  },
  {
   "cell_type": "code",
   "execution_count": 10,
   "id": "7df5644d-458e-40c4-a8a6-edcc451db308",
   "metadata": {},
   "outputs": [],
   "source": [
    "data.drop('engine_unit', axis=1,inplace= True)"
   ]
  },
  {
   "cell_type": "code",
   "execution_count": 11,
   "id": "689132bf-ce9f-4695-b7ef-24a262e9da8a",
   "metadata": {},
   "outputs": [],
   "source": [
    "# max_power 변수 전처리\n",
    "data[['max_power', 'max_power_unit']] = data['max_power'].str.split(expand=True) #분할된 문자들을 새로운 변수들로 저장"
   ]
  },
  {
   "cell_type": "code",
   "execution_count": 12,
   "id": "53279e66-34f0-4ab1-847a-1dacc1bee5e4",
   "metadata": {},
   "outputs": [
    {
     "data": {
      "text/plain": [
       "0        74\n",
       "1    103.52\n",
       "2        78\n",
       "3        90\n",
       "4      88.2\n",
       "Name: max_power, dtype: object"
      ]
     },
     "execution_count": 12,
     "metadata": {},
     "output_type": "execute_result"
    }
   ],
   "source": [
    "data['max_power'].head() #max_power"
   ]
  },
  {
   "cell_type": "code",
   "execution_count": 13,
   "id": "0f74ca0a-d0a0-4afb-97a2-8358099fb13b",
   "metadata": {},
   "outputs": [
    {
     "data": {
      "text/html": [
       "<div>\n",
       "<style scoped>\n",
       "    .dataframe tbody tr th:only-of-type {\n",
       "        vertical-align: middle;\n",
       "    }\n",
       "\n",
       "    .dataframe tbody tr th {\n",
       "        vertical-align: top;\n",
       "    }\n",
       "\n",
       "    .dataframe thead th {\n",
       "        text-align: right;\n",
       "    }\n",
       "</style>\n",
       "<table border=\"1\" class=\"dataframe\">\n",
       "  <thead>\n",
       "    <tr style=\"text-align: right;\">\n",
       "      <th></th>\n",
       "      <th>name</th>\n",
       "      <th>year</th>\n",
       "      <th>selling_price</th>\n",
       "      <th>km_driven</th>\n",
       "      <th>fuel</th>\n",
       "      <th>seller_type</th>\n",
       "      <th>transmission</th>\n",
       "      <th>owner</th>\n",
       "      <th>mileage</th>\n",
       "      <th>engine</th>\n",
       "      <th>max_power</th>\n",
       "      <th>torque</th>\n",
       "      <th>seats</th>\n",
       "      <th>max_power_unit</th>\n",
       "    </tr>\n",
       "  </thead>\n",
       "  <tbody>\n",
       "    <tr>\n",
       "      <th>4933</th>\n",
       "      <td>Maruti Omni CNG</td>\n",
       "      <td>2000</td>\n",
       "      <td>80000</td>\n",
       "      <td>100000</td>\n",
       "      <td>CNG</td>\n",
       "      <td>Individual</td>\n",
       "      <td>Manual</td>\n",
       "      <td>Second Owner</td>\n",
       "      <td>10.9 km/kg</td>\n",
       "      <td>796</td>\n",
       "      <td>bhp</td>\n",
       "      <td>NaN</td>\n",
       "      <td>8.0</td>\n",
       "      <td>None</td>\n",
       "    </tr>\n",
       "  </tbody>\n",
       "</table>\n",
       "</div>"
      ],
      "text/plain": [
       "                 name  year  selling_price  km_driven fuel seller_type  \\\n",
       "4933  Maruti Omni CNG  2000          80000     100000  CNG  Individual   \n",
       "\n",
       "     transmission         owner     mileage engine max_power torque  seats  \\\n",
       "4933       Manual  Second Owner  10.9 km/kg    796       bhp    NaN    8.0   \n",
       "\n",
       "     max_power_unit  \n",
       "4933           None  "
      ]
     },
     "execution_count": 13,
     "metadata": {},
     "output_type": "execute_result"
    }
   ],
   "source": [
    "data[data['max_power']== 'bhp']# maxpower 변수에 bhp라는 문자가 있는지 확인"
   ]
  },
  {
   "cell_type": "code",
   "execution_count": 14,
   "id": "777f83b9-ea6a-4f85-b109-142cddff0e81",
   "metadata": {},
   "outputs": [],
   "source": [
    "def isFloat(value): \n",
    "    try:\n",
    "        num = float(value)\n",
    "        return num\n",
    "    except ValueError:\n",
    "        return np.NaN"
   ]
  },
  {
   "cell_type": "code",
   "execution_count": 15,
   "id": "7aab1424-29dd-4554-afad-2ced2c32506b",
   "metadata": {},
   "outputs": [],
   "source": [
    "data['max_power'] = data['max_power'].apply(isFloat) # isFloat 함수 적용"
   ]
  },
  {
   "cell_type": "code",
   "execution_count": 16,
   "id": "8b1b5e4e-a8a9-4921-9495-06e42bd9e27a",
   "metadata": {},
   "outputs": [
    {
     "data": {
      "text/plain": [
       "array(['bhp', nan, None], dtype=object)"
      ]
     },
     "execution_count": 16,
     "metadata": {},
     "output_type": "execute_result"
    }
   ],
   "source": [
    "data['max_power_unit'].unique() "
   ]
  },
  {
   "cell_type": "code",
   "execution_count": 17,
   "id": "1402a496-dd2d-4fb5-9c5d-7ce13bbe4da8",
   "metadata": {},
   "outputs": [],
   "source": [
    "data.drop ('max_power_unit', axis=1, inplace= True) # 변수 제거"
   ]
  },
  {
   "cell_type": "code",
   "execution_count": 18,
   "id": "7cfb7ccf-6420-4d0a-a335-9e256ac4eb75",
   "metadata": {},
   "outputs": [],
   "source": [
    "# mileage 변수 전처리 하기\n",
    "\n",
    "data[['mileage','mileage_unit']] = data['mileage'].str.split(expand=True)"
   ]
  },
  {
   "cell_type": "code",
   "execution_count": 19,
   "id": "0c3a9679-6dfd-4370-a925-b023249f2ce9",
   "metadata": {},
   "outputs": [],
   "source": [
    "data['mileage'] = data['mileage'].astype('float32')"
   ]
  },
  {
   "cell_type": "code",
   "execution_count": 20,
   "id": "de8e99df-0e92-439a-be97-785c4b46d1bb",
   "metadata": {},
   "outputs": [
    {
     "data": {
      "text/plain": [
       "array(['kmpl', 'km/kg', nan], dtype=object)"
      ]
     },
     "execution_count": 20,
     "metadata": {},
     "output_type": "execute_result"
    }
   ],
   "source": [
    "data['mileage_unit'].unique()"
   ]
  },
  {
   "cell_type": "code",
   "execution_count": 21,
   "id": "cff6ecfd-7856-4ea1-b951-34bc952921e0",
   "metadata": {},
   "outputs": [
    {
     "data": {
      "text/plain": [
       "array(['Diesel', 'Petrol', 'LPG', 'CNG'], dtype=object)"
      ]
     },
     "execution_count": 21,
     "metadata": {},
     "output_type": "execute_result"
    }
   ],
   "source": [
    "data['fuel'].unique()"
   ]
  },
  {
   "cell_type": "code",
   "execution_count": 22,
   "id": "8d8d2893-6d5d-4c8b-bd51-60cfbee7795d",
   "metadata": {},
   "outputs": [],
   "source": [
    "def mile(x):\n",
    "    if x['fuel'] == 'petrol':\n",
    "        return x['mileage'] / 80.43\n",
    "    elif x['fuel'] == 'Diesel':\n",
    "        return x['mileage'] / 73.53\n",
    "    elif x['fuel'] == 'LPG':\n",
    "        return x['mileage'] / 40.85\n",
    "    else:\n",
    "        return x['mileage'] / 44.23"
   ]
  },
  {
   "cell_type": "code",
   "execution_count": 23,
   "id": "e37c6d6e-8fd0-4408-a516-24b373d596c1",
   "metadata": {},
   "outputs": [],
   "source": [
    "data['mileage'] = data.apply(mile,axis=1)"
   ]
  },
  {
   "cell_type": "code",
   "execution_count": 24,
   "id": "c5269acc-393b-446c-9569-293886f6ac01",
   "metadata": {},
   "outputs": [],
   "source": [
    "data.drop('mileage_unit',axis=1,inplace=True)"
   ]
  },
  {
   "cell_type": "code",
   "execution_count": 25,
   "id": "268633f6-98de-4dad-a50b-5479e4e15b78",
   "metadata": {},
   "outputs": [
    {
     "data": {
      "text/plain": [
       "0              190Nm@ 2000rpm\n",
       "1         250Nm@ 1500-2500rpm\n",
       "2       12.7@ 2,700(kgm@ rpm)\n",
       "3    22.4 kgm at 1750-2750rpm\n",
       "4       11.5@ 4,500(kgm@ rpm)\n",
       "Name: torque, dtype: object"
      ]
     },
     "execution_count": 25,
     "metadata": {},
     "output_type": "execute_result"
    }
   ],
   "source": [
    "# torque 변수 전처리하기\n",
    "data['torque'].head()"
   ]
  },
  {
   "cell_type": "code",
   "execution_count": 26,
   "id": "1e9a1101-b646-4f7d-8302-f9eed570c1ed",
   "metadata": {},
   "outputs": [],
   "source": [
    "data['torque']= data['torque'].str.upper() # torque 변수 대문자로 변환"
   ]
  },
  {
   "cell_type": "code",
   "execution_count": 27,
   "id": "479c94ec-2d88-4dbc-91e9-048b8159afa1",
   "metadata": {},
   "outputs": [],
   "source": [
    "def torque_unit(x):\n",
    "    if 'NM' in str(x):\n",
    "        return 'Nm'\n",
    "    elif 'KGM'in str(x):\n",
    "        return 'kgm'"
   ]
  },
  {
   "cell_type": "code",
   "execution_count": 28,
   "id": "d0a12e99-f96e-426d-827f-32cf5401c6fa",
   "metadata": {},
   "outputs": [],
   "source": [
    "data['torque_unit']= data['torque'].apply(torque_unit)\n",
    "# torque 변수를 torque_unit 함수에 적용하여 torque_unit 이라는 변수로 저장"
   ]
  },
  {
   "cell_type": "code",
   "execution_count": 29,
   "id": "3c23c47d-b92f-487f-a1f0-b53eba8fbc75",
   "metadata": {},
   "outputs": [
    {
     "data": {
      "text/plain": [
       "array(['Nm', 'kgm', None], dtype=object)"
      ]
     },
     "execution_count": 29,
     "metadata": {},
     "output_type": "execute_result"
    }
   ],
   "source": [
    "data['torque_unit'].unique()"
   ]
  },
  {
   "cell_type": "code",
   "execution_count": 30,
   "id": "8b6321c2-71e1-4115-91ab-dc3ee6828220",
   "metadata": {},
   "outputs": [
    {
     "data": {
      "text/plain": [
       "array([nan, '250@ 1250-5000RPM', '510@ 1600-2400', '110(11.2)@ 4800',\n",
       "       '210 / 1900'], dtype=object)"
      ]
     },
     "execution_count": 30,
     "metadata": {},
     "output_type": "execute_result"
    }
   ],
   "source": [
    "data['torque_unit'].isna()\n",
    "data[data['torque_unit'].isna()]\n",
    "data[data['torque_unit'].isna()]['torque'].unique()"
   ]
  },
  {
   "cell_type": "code",
   "execution_count": 31,
   "id": "70261aec-6791-4f48-94b0-32f9c05b86ed",
   "metadata": {},
   "outputs": [],
   "source": [
    "data['torque_unit'].fillna('Nm', inplace=True) #결측치를 Nm으로 대체"
   ]
  },
  {
   "cell_type": "code",
   "execution_count": 32,
   "id": "9cb3dcf8-e786-40e9-a2ba-dcc60c9d11bf",
   "metadata": {},
   "outputs": [],
   "source": [
    "string_example = '12.7@ 2,700(KGM@ RPM)'"
   ]
  },
  {
   "cell_type": "code",
   "execution_count": 33,
   "id": "82b049a4-1a63-420a-b672-879c3d39c96e",
   "metadata": {},
   "outputs": [
    {
     "data": {
      "text/plain": [
       "'12.7'"
      ]
     },
     "execution_count": 33,
     "metadata": {},
     "output_type": "execute_result"
    }
   ],
   "source": [
    "string_example[:4] # 4번째 자리 전까지 인덱싱"
   ]
  },
  {
   "cell_type": "code",
   "execution_count": 34,
   "id": "5a1872ca-b3f8-4c14-9ba2-303cbf0e3293",
   "metadata": {},
   "outputs": [
    {
     "name": "stdout",
     "output_type": "stream",
     "text": [
      "0 번째 텍스트: 1\n",
      "1 번째 텍스트: 2\n",
      "2 번째 텍스트: .\n",
      "3 번째 텍스트: 7\n",
      "4 번째 텍스트: @\n",
      "5 번째 텍스트:  \n",
      "6 번째 텍스트: 2\n",
      "7 번째 텍스트: ,\n",
      "8 번째 텍스트: 7\n",
      "9 번째 텍스트: 0\n",
      "10 번째 텍스트: 0\n",
      "11 번째 텍스트: (\n",
      "12 번째 텍스트: K\n",
      "13 번째 텍스트: G\n",
      "14 번째 텍스트: M\n",
      "15 번째 텍스트: @\n",
      "16 번째 텍스트:  \n",
      "17 번째 텍스트: R\n",
      "18 번째 텍스트: P\n",
      "19 번째 텍스트: M\n",
      "20 번째 텍스트: )\n"
     ]
    }
   ],
   "source": [
    "for i, j in enumerate(string_example):\n",
    "    print(i, '번째 텍스트:',j)"
   ]
  },
  {
   "cell_type": "code",
   "execution_count": 35,
   "id": "1bb005ed-8342-42a5-ae32-0566710c380b",
   "metadata": {},
   "outputs": [],
   "source": [
    "for i,j in enumerate(string_example):\n",
    "    if j not in '0123456789.':\n",
    "        cut= i\n",
    "        break"
   ]
  },
  {
   "cell_type": "code",
   "execution_count": 36,
   "id": "8e29e58b-aae1-4ba3-abe2-4622adf480bb",
   "metadata": {},
   "outputs": [],
   "source": [
    "def split_num(x):\n",
    "    x= str(x)\n",
    "    for i,j in enumerate(x):\n",
    "        if j not in '0123456789.':\n",
    "            cut= i\n",
    "            break\n",
    "    return x[:cut]"
   ]
  },
  {
   "cell_type": "code",
   "execution_count": 37,
   "id": "c00eabd1-27eb-42bc-8f9a-3d0da1019f44",
   "metadata": {},
   "outputs": [],
   "source": [
    "data['torque'] = data['torque'].apply(split_num)"
   ]
  },
  {
   "cell_type": "code",
   "execution_count": 38,
   "id": "3c9d62e1-8734-4507-9f95-da12f82a27b6",
   "metadata": {},
   "outputs": [
    {
     "data": {
      "text/plain": [
       "0         190\n",
       "1         250\n",
       "2        12.7\n",
       "3        22.4\n",
       "4        11.5\n",
       "        ...  \n",
       "8123    113.7\n",
       "8124       24\n",
       "8125      190\n",
       "8126      140\n",
       "8127      140\n",
       "Name: torque, Length: 8128, dtype: object"
      ]
     },
     "execution_count": 38,
     "metadata": {},
     "output_type": "execute_result"
    }
   ],
   "source": [
    "data['torque']"
   ]
  },
  {
   "cell_type": "code",
   "execution_count": 39,
   "id": "79436308-0b39-462b-afcd-7ada105c6fc8",
   "metadata": {},
   "outputs": [],
   "source": [
    "data['torque'] = data['torque'].replace('',np.NaN)\n"
   ]
  },
  {
   "cell_type": "code",
   "execution_count": 40,
   "id": "c4331468-467d-4e3e-b66e-07f45dc45da1",
   "metadata": {},
   "outputs": [],
   "source": [
    "data['torque'] = data['torque'].astype('float64')\n"
   ]
  },
  {
   "cell_type": "code",
   "execution_count": 41,
   "id": "92d330e1-f2a6-495c-b9bd-4c97b545e453",
   "metadata": {},
   "outputs": [
    {
     "data": {
      "text/plain": [
       "0    190.0\n",
       "1    250.0\n",
       "2     12.7\n",
       "3     22.4\n",
       "4     11.5\n",
       "Name: torque, dtype: float64"
      ]
     },
     "execution_count": 41,
     "metadata": {},
     "output_type": "execute_result"
    }
   ],
   "source": [
    "data['torque'].head()"
   ]
  },
  {
   "cell_type": "code",
   "execution_count": 42,
   "id": "c3182d0c-7f93-41b8-89ca-415201959540",
   "metadata": {},
   "outputs": [],
   "source": [
    "def torque_trans(x):\n",
    "    if x['torque_unit']=='kgm':\n",
    "        return x['torque']*9.8066 # kgm*9.8066 = Nm\n",
    "    else:\n",
    "        return x['torque']"
   ]
  },
  {
   "cell_type": "code",
   "execution_count": 43,
   "id": "8fd79c56-d6cf-4d2d-b728-353dd86cf7ae",
   "metadata": {},
   "outputs": [],
   "source": [
    "data['torque']= data.apply(torque_trans,axis=1)"
   ]
  },
  {
   "cell_type": "code",
   "execution_count": 44,
   "id": "a72c927f-5983-4266-8f7a-5128c5aa0fa7",
   "metadata": {},
   "outputs": [],
   "source": [
    "data.drop('torque_unit',axis=1, inplace=True)"
   ]
  },
  {
   "cell_type": "code",
   "execution_count": 45,
   "id": "d31a101b-4eaa-4cbb-924a-0860427c0e2e",
   "metadata": {},
   "outputs": [
    {
     "data": {
      "text/html": [
       "<div>\n",
       "<style scoped>\n",
       "    .dataframe tbody tr th:only-of-type {\n",
       "        vertical-align: middle;\n",
       "    }\n",
       "\n",
       "    .dataframe tbody tr th {\n",
       "        vertical-align: top;\n",
       "    }\n",
       "\n",
       "    .dataframe thead th {\n",
       "        text-align: right;\n",
       "    }\n",
       "</style>\n",
       "<table border=\"1\" class=\"dataframe\">\n",
       "  <thead>\n",
       "    <tr style=\"text-align: right;\">\n",
       "      <th></th>\n",
       "      <th>name</th>\n",
       "      <th>year</th>\n",
       "      <th>selling_price</th>\n",
       "      <th>km_driven</th>\n",
       "      <th>fuel</th>\n",
       "      <th>seller_type</th>\n",
       "      <th>transmission</th>\n",
       "      <th>owner</th>\n",
       "      <th>mileage</th>\n",
       "      <th>engine</th>\n",
       "      <th>max_power</th>\n",
       "      <th>torque</th>\n",
       "      <th>seats</th>\n",
       "    </tr>\n",
       "  </thead>\n",
       "  <tbody>\n",
       "    <tr>\n",
       "      <th>0</th>\n",
       "      <td>Maruti Swift Dzire VDI</td>\n",
       "      <td>2014</td>\n",
       "      <td>450000</td>\n",
       "      <td>145500</td>\n",
       "      <td>Diesel</td>\n",
       "      <td>Individual</td>\n",
       "      <td>Manual</td>\n",
       "      <td>First Owner</td>\n",
       "      <td>0.318237</td>\n",
       "      <td>1248</td>\n",
       "      <td>74.00</td>\n",
       "      <td>190.00000</td>\n",
       "      <td>5.0</td>\n",
       "    </tr>\n",
       "    <tr>\n",
       "      <th>1</th>\n",
       "      <td>Skoda Rapid 1.5 TDI Ambition</td>\n",
       "      <td>2014</td>\n",
       "      <td>370000</td>\n",
       "      <td>120000</td>\n",
       "      <td>Diesel</td>\n",
       "      <td>Individual</td>\n",
       "      <td>Manual</td>\n",
       "      <td>Second Owner</td>\n",
       "      <td>0.287502</td>\n",
       "      <td>1498</td>\n",
       "      <td>103.52</td>\n",
       "      <td>250.00000</td>\n",
       "      <td>5.0</td>\n",
       "    </tr>\n",
       "    <tr>\n",
       "      <th>2</th>\n",
       "      <td>Honda City 2017-2020 EXi</td>\n",
       "      <td>2006</td>\n",
       "      <td>158000</td>\n",
       "      <td>140000</td>\n",
       "      <td>Petrol</td>\n",
       "      <td>Individual</td>\n",
       "      <td>Manual</td>\n",
       "      <td>Third Owner</td>\n",
       "      <td>0.400181</td>\n",
       "      <td>1497</td>\n",
       "      <td>78.00</td>\n",
       "      <td>124.54382</td>\n",
       "      <td>5.0</td>\n",
       "    </tr>\n",
       "    <tr>\n",
       "      <th>3</th>\n",
       "      <td>Hyundai i20 Sportz Diesel</td>\n",
       "      <td>2010</td>\n",
       "      <td>225000</td>\n",
       "      <td>127000</td>\n",
       "      <td>Diesel</td>\n",
       "      <td>Individual</td>\n",
       "      <td>Manual</td>\n",
       "      <td>First Owner</td>\n",
       "      <td>0.312797</td>\n",
       "      <td>1396</td>\n",
       "      <td>90.00</td>\n",
       "      <td>219.66784</td>\n",
       "      <td>5.0</td>\n",
       "    </tr>\n",
       "    <tr>\n",
       "      <th>4</th>\n",
       "      <td>Maruti Swift VXI BSIII</td>\n",
       "      <td>2007</td>\n",
       "      <td>130000</td>\n",
       "      <td>120000</td>\n",
       "      <td>Petrol</td>\n",
       "      <td>Individual</td>\n",
       "      <td>Manual</td>\n",
       "      <td>First Owner</td>\n",
       "      <td>0.364006</td>\n",
       "      <td>1298</td>\n",
       "      <td>88.20</td>\n",
       "      <td>112.77590</td>\n",
       "      <td>5.0</td>\n",
       "    </tr>\n",
       "  </tbody>\n",
       "</table>\n",
       "</div>"
      ],
      "text/plain": [
       "                           name  year  selling_price  km_driven    fuel  \\\n",
       "0        Maruti Swift Dzire VDI  2014         450000     145500  Diesel   \n",
       "1  Skoda Rapid 1.5 TDI Ambition  2014         370000     120000  Diesel   \n",
       "2      Honda City 2017-2020 EXi  2006         158000     140000  Petrol   \n",
       "3     Hyundai i20 Sportz Diesel  2010         225000     127000  Diesel   \n",
       "4        Maruti Swift VXI BSIII  2007         130000     120000  Petrol   \n",
       "\n",
       "  seller_type transmission         owner   mileage engine  max_power  \\\n",
       "0  Individual       Manual   First Owner  0.318237   1248      74.00   \n",
       "1  Individual       Manual  Second Owner  0.287502   1498     103.52   \n",
       "2  Individual       Manual   Third Owner  0.400181   1497      78.00   \n",
       "3  Individual       Manual   First Owner  0.312797   1396      90.00   \n",
       "4  Individual       Manual   First Owner  0.364006   1298      88.20   \n",
       "\n",
       "      torque  seats  \n",
       "0  190.00000    5.0  \n",
       "1  250.00000    5.0  \n",
       "2  124.54382    5.0  \n",
       "3  219.66784    5.0  \n",
       "4  112.77590    5.0  "
      ]
     },
     "execution_count": 45,
     "metadata": {},
     "output_type": "execute_result"
    }
   ],
   "source": [
    "data.head()"
   ]
  },
  {
   "cell_type": "code",
   "execution_count": 46,
   "id": "084a31d7-7a53-457c-8f4c-2b1250650a72",
   "metadata": {},
   "outputs": [],
   "source": [
    "# name 변수 전처리 하기 \n",
    "data['name'] = data['name'].str.split(expand=True)[0]"
   ]
  },
  {
   "cell_type": "code",
   "execution_count": 47,
   "id": "88e9b02f-8df7-41ef-b4a3-efbcdd298273",
   "metadata": {},
   "outputs": [
    {
     "data": {
      "text/plain": [
       "array(['Maruti', 'Skoda', 'Honda', 'Hyundai', 'Toyota', 'Ford', 'Renault',\n",
       "       'Mahindra', 'Tata', 'Chevrolet', 'Fiat', 'Datsun', 'Jeep',\n",
       "       'Mercedes-Benz', 'Mitsubishi', 'Audi', 'Volkswagen', 'BMW',\n",
       "       'Nissan', 'Lexus', 'Jaguar', 'Land', 'MG', 'Volvo', 'Daewoo',\n",
       "       'Kia', 'Force', 'Ambassador', 'Ashok', 'Isuzu', 'Opel', 'Peugeot'],\n",
       "      dtype=object)"
      ]
     },
     "execution_count": 47,
     "metadata": {},
     "output_type": "execute_result"
    }
   ],
   "source": [
    "data['name'].unique()"
   ]
  },
  {
   "cell_type": "code",
   "execution_count": 48,
   "id": "5e397018-f8c9-4bd9-a8f5-12b1860b720d",
   "metadata": {},
   "outputs": [],
   "source": [
    "data['name'] = data['name'].replace('Land','Land Rover')"
   ]
  },
  {
   "cell_type": "code",
   "execution_count": 49,
   "id": "caff7758-610b-462c-8e46-5aac94e22aae",
   "metadata": {},
   "outputs": [
    {
     "data": {
      "text/plain": [
       "name             0.000000\n",
       "year             0.000000\n",
       "selling_price    0.000000\n",
       "km_driven        0.000000\n",
       "fuel             0.000000\n",
       "seller_type      0.000000\n",
       "transmission     0.000000\n",
       "owner            0.000000\n",
       "mileage          0.027190\n",
       "engine           0.027190\n",
       "max_power        0.026575\n",
       "torque           0.027313\n",
       "seats            0.027190\n",
       "dtype: float64"
      ]
     },
     "execution_count": 49,
     "metadata": {},
     "output_type": "execute_result"
    }
   ],
   "source": [
    "# 전처리: 결측치 처리와 더미 변수 변환\n",
    "data.isna().mean() #결측치 있는 항복 확인 가능"
   ]
  },
  {
   "cell_type": "code",
   "execution_count": 50,
   "id": "860afe87-00d0-4a84-be0e-3b4407018da9",
   "metadata": {},
   "outputs": [
    {
     "data": {
      "text/plain": [
       "7906"
      ]
     },
     "execution_count": 50,
     "metadata": {},
     "output_type": "execute_result"
    }
   ],
   "source": [
    "data.dropna(inplace = True)\n",
    "len(data)"
   ]
  },
  {
   "cell_type": "code",
   "execution_count": 51,
   "id": "6296e28a-56f6-46df-981c-5f76469e9f9b",
   "metadata": {},
   "outputs": [],
   "source": [
    "data = pd.get_dummies(data, columns=['name', 'fuel', 'seller_type', 'transmission', 'owner'], drop_first=True).astype(int)\n"
   ]
  },
  {
   "cell_type": "code",
   "execution_count": 52,
   "id": "fb075479-eae1-476a-b4aa-e25f408e4e97",
   "metadata": {},
   "outputs": [
    {
     "data": {
      "text/html": [
       "<div>\n",
       "<style scoped>\n",
       "    .dataframe tbody tr th:only-of-type {\n",
       "        vertical-align: middle;\n",
       "    }\n",
       "\n",
       "    .dataframe tbody tr th {\n",
       "        vertical-align: top;\n",
       "    }\n",
       "\n",
       "    .dataframe thead th {\n",
       "        text-align: right;\n",
       "    }\n",
       "</style>\n",
       "<table border=\"1\" class=\"dataframe\">\n",
       "  <thead>\n",
       "    <tr style=\"text-align: right;\">\n",
       "      <th></th>\n",
       "      <th>year</th>\n",
       "      <th>selling_price</th>\n",
       "      <th>km_driven</th>\n",
       "      <th>mileage</th>\n",
       "      <th>engine</th>\n",
       "      <th>max_power</th>\n",
       "      <th>torque</th>\n",
       "      <th>seats</th>\n",
       "      <th>name_Ashok</th>\n",
       "      <th>name_Audi</th>\n",
       "      <th>...</th>\n",
       "      <th>fuel_Diesel</th>\n",
       "      <th>fuel_LPG</th>\n",
       "      <th>fuel_Petrol</th>\n",
       "      <th>seller_type_Individual</th>\n",
       "      <th>seller_type_Trustmark Dealer</th>\n",
       "      <th>transmission_Manual</th>\n",
       "      <th>owner_Fourth &amp; Above Owner</th>\n",
       "      <th>owner_Second Owner</th>\n",
       "      <th>owner_Test Drive Car</th>\n",
       "      <th>owner_Third Owner</th>\n",
       "    </tr>\n",
       "  </thead>\n",
       "  <tbody>\n",
       "    <tr>\n",
       "      <th>0</th>\n",
       "      <td>2014</td>\n",
       "      <td>450000</td>\n",
       "      <td>145500</td>\n",
       "      <td>0</td>\n",
       "      <td>1248</td>\n",
       "      <td>74</td>\n",
       "      <td>190</td>\n",
       "      <td>5</td>\n",
       "      <td>0</td>\n",
       "      <td>0</td>\n",
       "      <td>...</td>\n",
       "      <td>1</td>\n",
       "      <td>0</td>\n",
       "      <td>0</td>\n",
       "      <td>1</td>\n",
       "      <td>0</td>\n",
       "      <td>1</td>\n",
       "      <td>0</td>\n",
       "      <td>0</td>\n",
       "      <td>0</td>\n",
       "      <td>0</td>\n",
       "    </tr>\n",
       "    <tr>\n",
       "      <th>1</th>\n",
       "      <td>2014</td>\n",
       "      <td>370000</td>\n",
       "      <td>120000</td>\n",
       "      <td>0</td>\n",
       "      <td>1498</td>\n",
       "      <td>103</td>\n",
       "      <td>250</td>\n",
       "      <td>5</td>\n",
       "      <td>0</td>\n",
       "      <td>0</td>\n",
       "      <td>...</td>\n",
       "      <td>1</td>\n",
       "      <td>0</td>\n",
       "      <td>0</td>\n",
       "      <td>1</td>\n",
       "      <td>0</td>\n",
       "      <td>1</td>\n",
       "      <td>0</td>\n",
       "      <td>1</td>\n",
       "      <td>0</td>\n",
       "      <td>0</td>\n",
       "    </tr>\n",
       "    <tr>\n",
       "      <th>2</th>\n",
       "      <td>2006</td>\n",
       "      <td>158000</td>\n",
       "      <td>140000</td>\n",
       "      <td>0</td>\n",
       "      <td>1497</td>\n",
       "      <td>78</td>\n",
       "      <td>124</td>\n",
       "      <td>5</td>\n",
       "      <td>0</td>\n",
       "      <td>0</td>\n",
       "      <td>...</td>\n",
       "      <td>0</td>\n",
       "      <td>0</td>\n",
       "      <td>1</td>\n",
       "      <td>1</td>\n",
       "      <td>0</td>\n",
       "      <td>1</td>\n",
       "      <td>0</td>\n",
       "      <td>0</td>\n",
       "      <td>0</td>\n",
       "      <td>1</td>\n",
       "    </tr>\n",
       "    <tr>\n",
       "      <th>3</th>\n",
       "      <td>2010</td>\n",
       "      <td>225000</td>\n",
       "      <td>127000</td>\n",
       "      <td>0</td>\n",
       "      <td>1396</td>\n",
       "      <td>90</td>\n",
       "      <td>219</td>\n",
       "      <td>5</td>\n",
       "      <td>0</td>\n",
       "      <td>0</td>\n",
       "      <td>...</td>\n",
       "      <td>1</td>\n",
       "      <td>0</td>\n",
       "      <td>0</td>\n",
       "      <td>1</td>\n",
       "      <td>0</td>\n",
       "      <td>1</td>\n",
       "      <td>0</td>\n",
       "      <td>0</td>\n",
       "      <td>0</td>\n",
       "      <td>0</td>\n",
       "    </tr>\n",
       "    <tr>\n",
       "      <th>4</th>\n",
       "      <td>2007</td>\n",
       "      <td>130000</td>\n",
       "      <td>120000</td>\n",
       "      <td>0</td>\n",
       "      <td>1298</td>\n",
       "      <td>88</td>\n",
       "      <td>112</td>\n",
       "      <td>5</td>\n",
       "      <td>0</td>\n",
       "      <td>0</td>\n",
       "      <td>...</td>\n",
       "      <td>0</td>\n",
       "      <td>0</td>\n",
       "      <td>1</td>\n",
       "      <td>1</td>\n",
       "      <td>0</td>\n",
       "      <td>1</td>\n",
       "      <td>0</td>\n",
       "      <td>0</td>\n",
       "      <td>0</td>\n",
       "      <td>0</td>\n",
       "    </tr>\n",
       "  </tbody>\n",
       "</table>\n",
       "<p>5 rows × 48 columns</p>\n",
       "</div>"
      ],
      "text/plain": [
       "   year  selling_price  km_driven  mileage  engine  max_power  torque  seats  \\\n",
       "0  2014         450000     145500        0    1248         74     190      5   \n",
       "1  2014         370000     120000        0    1498        103     250      5   \n",
       "2  2006         158000     140000        0    1497         78     124      5   \n",
       "3  2010         225000     127000        0    1396         90     219      5   \n",
       "4  2007         130000     120000        0    1298         88     112      5   \n",
       "\n",
       "   name_Ashok  name_Audi  ...  fuel_Diesel  fuel_LPG  fuel_Petrol  \\\n",
       "0           0          0  ...            1         0            0   \n",
       "1           0          0  ...            1         0            0   \n",
       "2           0          0  ...            0         0            1   \n",
       "3           0          0  ...            1         0            0   \n",
       "4           0          0  ...            0         0            1   \n",
       "\n",
       "   seller_type_Individual  seller_type_Trustmark Dealer  transmission_Manual  \\\n",
       "0                       1                             0                    1   \n",
       "1                       1                             0                    1   \n",
       "2                       1                             0                    1   \n",
       "3                       1                             0                    1   \n",
       "4                       1                             0                    1   \n",
       "\n",
       "   owner_Fourth & Above Owner  owner_Second Owner  owner_Test Drive Car  \\\n",
       "0                           0                   0                     0   \n",
       "1                           0                   1                     0   \n",
       "2                           0                   0                     0   \n",
       "3                           0                   0                     0   \n",
       "4                           0                   0                     0   \n",
       "\n",
       "   owner_Third Owner  \n",
       "0                  0  \n",
       "1                  0  \n",
       "2                  1  \n",
       "3                  0  \n",
       "4                  0  \n",
       "\n",
       "[5 rows x 48 columns]"
      ]
     },
     "execution_count": 52,
     "metadata": {},
     "output_type": "execute_result"
    }
   ],
   "source": [
    "data.head()"
   ]
  },
  {
   "cell_type": "code",
   "execution_count": 53,
   "id": "fd0afcab-77a8-4717-be10-0376ebf784f3",
   "metadata": {},
   "outputs": [],
   "source": [
    "#모델및 평가하기 \n",
    "\n",
    "from sklearn.model_selection import train_test_split\n",
    "\n",
    "X_train, X_test, y_train, y_test = train_test_split(data.drop('selling_price',axis=1), data['selling_price'], test_size=0.2, random_state=100)"
   ]
  },
  {
   "cell_type": "code",
   "execution_count": 54,
   "id": "aba0084a-af81-4372-a866-74f02d34cc4b",
   "metadata": {},
   "outputs": [],
   "source": [
    "\n",
    "from sklearn.ensemble import RandomForestRegressor"
   ]
  },
  {
   "cell_type": "code",
   "execution_count": 55,
   "id": "c5872275-afa6-4697-896e-0f0b2a823620",
   "metadata": {},
   "outputs": [],
   "source": [
    "model =  RandomForestRegressor(random_state=100) # 모델 객체 생성"
   ]
  },
  {
   "cell_type": "markdown",
   "id": "9d30665f-700b-4645-819f-e14ebfee4da2",
   "metadata": {},
   "source": [
    "model.fit(X_train,y_train)\n",
    "train_pred = model.predict(X_train)\n",
    "test_pred = model.predict(X_test)"
   ]
  },
  {
   "cell_type": "code",
   "execution_count": 56,
   "id": "22346e51-bdf3-41c2-8247-feb8c66cee57",
   "metadata": {},
   "outputs": [],
   "source": [
    "\n",
    "model.fit(X_train,y_train)\n",
    "train_pred = model.predict(X_train)\n",
    "test_pred = model.predict(X_test)"
   ]
  },
  {
   "cell_type": "code",
   "execution_count": 57,
   "id": "be9ff379-268c-4627-8f3c-6ede024b7f06",
   "metadata": {},
   "outputs": [
    {
     "name": "stdout",
     "output_type": "stream",
     "text": [
      "train_rmse: 56958.228011854255 test_rmse: 135276.54192172986\n"
     ]
    }
   ],
   "source": [
    "from sklearn.metrics import mean_squared_error\n",
    "print(\"train_rmse:\", mean_squared_error(y_train,train_pred)**0.5,\n",
    "     \"test_rmse:\", mean_squared_error(y_test,test_pred)**0.5)"
   ]
  },
  {
   "cell_type": "code",
   "execution_count": 58,
   "id": "f810c41f-3ef5-4adb-a094-a737f810e05f",
   "metadata": {},
   "outputs": [],
   "source": [
    "from sklearn.model_selection import KFold"
   ]
  },
  {
   "cell_type": "code",
   "execution_count": 59,
   "id": "d1410cfe-5ded-4bf9-9959-2a4095f2391d",
   "metadata": {},
   "outputs": [
    {
     "data": {
      "text/html": [
       "<div>\n",
       "<style scoped>\n",
       "    .dataframe tbody tr th:only-of-type {\n",
       "        vertical-align: middle;\n",
       "    }\n",
       "\n",
       "    .dataframe tbody tr th {\n",
       "        vertical-align: top;\n",
       "    }\n",
       "\n",
       "    .dataframe thead th {\n",
       "        text-align: right;\n",
       "    }\n",
       "</style>\n",
       "<table border=\"1\" class=\"dataframe\">\n",
       "  <thead>\n",
       "    <tr style=\"text-align: right;\">\n",
       "      <th></th>\n",
       "      <th>year</th>\n",
       "      <th>selling_price</th>\n",
       "      <th>km_driven</th>\n",
       "      <th>mileage</th>\n",
       "      <th>engine</th>\n",
       "      <th>max_power</th>\n",
       "      <th>torque</th>\n",
       "      <th>seats</th>\n",
       "      <th>name_Ashok</th>\n",
       "      <th>name_Audi</th>\n",
       "      <th>...</th>\n",
       "      <th>fuel_Diesel</th>\n",
       "      <th>fuel_LPG</th>\n",
       "      <th>fuel_Petrol</th>\n",
       "      <th>seller_type_Individual</th>\n",
       "      <th>seller_type_Trustmark Dealer</th>\n",
       "      <th>transmission_Manual</th>\n",
       "      <th>owner_Fourth &amp; Above Owner</th>\n",
       "      <th>owner_Second Owner</th>\n",
       "      <th>owner_Test Drive Car</th>\n",
       "      <th>owner_Third Owner</th>\n",
       "    </tr>\n",
       "  </thead>\n",
       "  <tbody>\n",
       "    <tr>\n",
       "      <th>0</th>\n",
       "      <td>2014</td>\n",
       "      <td>450000</td>\n",
       "      <td>145500</td>\n",
       "      <td>0</td>\n",
       "      <td>1248</td>\n",
       "      <td>74</td>\n",
       "      <td>190</td>\n",
       "      <td>5</td>\n",
       "      <td>0</td>\n",
       "      <td>0</td>\n",
       "      <td>...</td>\n",
       "      <td>1</td>\n",
       "      <td>0</td>\n",
       "      <td>0</td>\n",
       "      <td>1</td>\n",
       "      <td>0</td>\n",
       "      <td>1</td>\n",
       "      <td>0</td>\n",
       "      <td>0</td>\n",
       "      <td>0</td>\n",
       "      <td>0</td>\n",
       "    </tr>\n",
       "    <tr>\n",
       "      <th>1</th>\n",
       "      <td>2014</td>\n",
       "      <td>370000</td>\n",
       "      <td>120000</td>\n",
       "      <td>0</td>\n",
       "      <td>1498</td>\n",
       "      <td>103</td>\n",
       "      <td>250</td>\n",
       "      <td>5</td>\n",
       "      <td>0</td>\n",
       "      <td>0</td>\n",
       "      <td>...</td>\n",
       "      <td>1</td>\n",
       "      <td>0</td>\n",
       "      <td>0</td>\n",
       "      <td>1</td>\n",
       "      <td>0</td>\n",
       "      <td>1</td>\n",
       "      <td>0</td>\n",
       "      <td>1</td>\n",
       "      <td>0</td>\n",
       "      <td>0</td>\n",
       "    </tr>\n",
       "    <tr>\n",
       "      <th>2</th>\n",
       "      <td>2006</td>\n",
       "      <td>158000</td>\n",
       "      <td>140000</td>\n",
       "      <td>0</td>\n",
       "      <td>1497</td>\n",
       "      <td>78</td>\n",
       "      <td>124</td>\n",
       "      <td>5</td>\n",
       "      <td>0</td>\n",
       "      <td>0</td>\n",
       "      <td>...</td>\n",
       "      <td>0</td>\n",
       "      <td>0</td>\n",
       "      <td>1</td>\n",
       "      <td>1</td>\n",
       "      <td>0</td>\n",
       "      <td>1</td>\n",
       "      <td>0</td>\n",
       "      <td>0</td>\n",
       "      <td>0</td>\n",
       "      <td>1</td>\n",
       "    </tr>\n",
       "    <tr>\n",
       "      <th>3</th>\n",
       "      <td>2010</td>\n",
       "      <td>225000</td>\n",
       "      <td>127000</td>\n",
       "      <td>0</td>\n",
       "      <td>1396</td>\n",
       "      <td>90</td>\n",
       "      <td>219</td>\n",
       "      <td>5</td>\n",
       "      <td>0</td>\n",
       "      <td>0</td>\n",
       "      <td>...</td>\n",
       "      <td>1</td>\n",
       "      <td>0</td>\n",
       "      <td>0</td>\n",
       "      <td>1</td>\n",
       "      <td>0</td>\n",
       "      <td>1</td>\n",
       "      <td>0</td>\n",
       "      <td>0</td>\n",
       "      <td>0</td>\n",
       "      <td>0</td>\n",
       "    </tr>\n",
       "    <tr>\n",
       "      <th>4</th>\n",
       "      <td>2007</td>\n",
       "      <td>130000</td>\n",
       "      <td>120000</td>\n",
       "      <td>0</td>\n",
       "      <td>1298</td>\n",
       "      <td>88</td>\n",
       "      <td>112</td>\n",
       "      <td>5</td>\n",
       "      <td>0</td>\n",
       "      <td>0</td>\n",
       "      <td>...</td>\n",
       "      <td>0</td>\n",
       "      <td>0</td>\n",
       "      <td>1</td>\n",
       "      <td>1</td>\n",
       "      <td>0</td>\n",
       "      <td>1</td>\n",
       "      <td>0</td>\n",
       "      <td>0</td>\n",
       "      <td>0</td>\n",
       "      <td>0</td>\n",
       "    </tr>\n",
       "    <tr>\n",
       "      <th>...</th>\n",
       "      <td>...</td>\n",
       "      <td>...</td>\n",
       "      <td>...</td>\n",
       "      <td>...</td>\n",
       "      <td>...</td>\n",
       "      <td>...</td>\n",
       "      <td>...</td>\n",
       "      <td>...</td>\n",
       "      <td>...</td>\n",
       "      <td>...</td>\n",
       "      <td>...</td>\n",
       "      <td>...</td>\n",
       "      <td>...</td>\n",
       "      <td>...</td>\n",
       "      <td>...</td>\n",
       "      <td>...</td>\n",
       "      <td>...</td>\n",
       "      <td>...</td>\n",
       "      <td>...</td>\n",
       "      <td>...</td>\n",
       "      <td>...</td>\n",
       "    </tr>\n",
       "    <tr>\n",
       "      <th>8123</th>\n",
       "      <td>2013</td>\n",
       "      <td>320000</td>\n",
       "      <td>110000</td>\n",
       "      <td>0</td>\n",
       "      <td>1197</td>\n",
       "      <td>82</td>\n",
       "      <td>113</td>\n",
       "      <td>5</td>\n",
       "      <td>0</td>\n",
       "      <td>0</td>\n",
       "      <td>...</td>\n",
       "      <td>0</td>\n",
       "      <td>0</td>\n",
       "      <td>1</td>\n",
       "      <td>1</td>\n",
       "      <td>0</td>\n",
       "      <td>1</td>\n",
       "      <td>0</td>\n",
       "      <td>0</td>\n",
       "      <td>0</td>\n",
       "      <td>0</td>\n",
       "    </tr>\n",
       "    <tr>\n",
       "      <th>8124</th>\n",
       "      <td>2007</td>\n",
       "      <td>135000</td>\n",
       "      <td>119000</td>\n",
       "      <td>0</td>\n",
       "      <td>1493</td>\n",
       "      <td>110</td>\n",
       "      <td>235</td>\n",
       "      <td>5</td>\n",
       "      <td>0</td>\n",
       "      <td>0</td>\n",
       "      <td>...</td>\n",
       "      <td>1</td>\n",
       "      <td>0</td>\n",
       "      <td>0</td>\n",
       "      <td>1</td>\n",
       "      <td>0</td>\n",
       "      <td>1</td>\n",
       "      <td>1</td>\n",
       "      <td>0</td>\n",
       "      <td>0</td>\n",
       "      <td>0</td>\n",
       "    </tr>\n",
       "    <tr>\n",
       "      <th>8125</th>\n",
       "      <td>2009</td>\n",
       "      <td>382000</td>\n",
       "      <td>120000</td>\n",
       "      <td>0</td>\n",
       "      <td>1248</td>\n",
       "      <td>73</td>\n",
       "      <td>190</td>\n",
       "      <td>5</td>\n",
       "      <td>0</td>\n",
       "      <td>0</td>\n",
       "      <td>...</td>\n",
       "      <td>1</td>\n",
       "      <td>0</td>\n",
       "      <td>0</td>\n",
       "      <td>1</td>\n",
       "      <td>0</td>\n",
       "      <td>1</td>\n",
       "      <td>0</td>\n",
       "      <td>0</td>\n",
       "      <td>0</td>\n",
       "      <td>0</td>\n",
       "    </tr>\n",
       "    <tr>\n",
       "      <th>8126</th>\n",
       "      <td>2013</td>\n",
       "      <td>290000</td>\n",
       "      <td>25000</td>\n",
       "      <td>0</td>\n",
       "      <td>1396</td>\n",
       "      <td>70</td>\n",
       "      <td>140</td>\n",
       "      <td>5</td>\n",
       "      <td>0</td>\n",
       "      <td>0</td>\n",
       "      <td>...</td>\n",
       "      <td>1</td>\n",
       "      <td>0</td>\n",
       "      <td>0</td>\n",
       "      <td>1</td>\n",
       "      <td>0</td>\n",
       "      <td>1</td>\n",
       "      <td>0</td>\n",
       "      <td>0</td>\n",
       "      <td>0</td>\n",
       "      <td>0</td>\n",
       "    </tr>\n",
       "    <tr>\n",
       "      <th>8127</th>\n",
       "      <td>2013</td>\n",
       "      <td>290000</td>\n",
       "      <td>25000</td>\n",
       "      <td>0</td>\n",
       "      <td>1396</td>\n",
       "      <td>70</td>\n",
       "      <td>140</td>\n",
       "      <td>5</td>\n",
       "      <td>0</td>\n",
       "      <td>0</td>\n",
       "      <td>...</td>\n",
       "      <td>1</td>\n",
       "      <td>0</td>\n",
       "      <td>0</td>\n",
       "      <td>1</td>\n",
       "      <td>0</td>\n",
       "      <td>1</td>\n",
       "      <td>0</td>\n",
       "      <td>0</td>\n",
       "      <td>0</td>\n",
       "      <td>0</td>\n",
       "    </tr>\n",
       "  </tbody>\n",
       "</table>\n",
       "<p>7906 rows × 48 columns</p>\n",
       "</div>"
      ],
      "text/plain": [
       "      year  selling_price  km_driven  mileage  engine  max_power  torque  \\\n",
       "0     2014         450000     145500        0    1248         74     190   \n",
       "1     2014         370000     120000        0    1498        103     250   \n",
       "2     2006         158000     140000        0    1497         78     124   \n",
       "3     2010         225000     127000        0    1396         90     219   \n",
       "4     2007         130000     120000        0    1298         88     112   \n",
       "...    ...            ...        ...      ...     ...        ...     ...   \n",
       "8123  2013         320000     110000        0    1197         82     113   \n",
       "8124  2007         135000     119000        0    1493        110     235   \n",
       "8125  2009         382000     120000        0    1248         73     190   \n",
       "8126  2013         290000      25000        0    1396         70     140   \n",
       "8127  2013         290000      25000        0    1396         70     140   \n",
       "\n",
       "      seats  name_Ashok  name_Audi  ...  fuel_Diesel  fuel_LPG  fuel_Petrol  \\\n",
       "0         5           0          0  ...            1         0            0   \n",
       "1         5           0          0  ...            1         0            0   \n",
       "2         5           0          0  ...            0         0            1   \n",
       "3         5           0          0  ...            1         0            0   \n",
       "4         5           0          0  ...            0         0            1   \n",
       "...     ...         ...        ...  ...          ...       ...          ...   \n",
       "8123      5           0          0  ...            0         0            1   \n",
       "8124      5           0          0  ...            1         0            0   \n",
       "8125      5           0          0  ...            1         0            0   \n",
       "8126      5           0          0  ...            1         0            0   \n",
       "8127      5           0          0  ...            1         0            0   \n",
       "\n",
       "      seller_type_Individual  seller_type_Trustmark Dealer  \\\n",
       "0                          1                             0   \n",
       "1                          1                             0   \n",
       "2                          1                             0   \n",
       "3                          1                             0   \n",
       "4                          1                             0   \n",
       "...                      ...                           ...   \n",
       "8123                       1                             0   \n",
       "8124                       1                             0   \n",
       "8125                       1                             0   \n",
       "8126                       1                             0   \n",
       "8127                       1                             0   \n",
       "\n",
       "      transmission_Manual  owner_Fourth & Above Owner  owner_Second Owner  \\\n",
       "0                       1                           0                   0   \n",
       "1                       1                           0                   1   \n",
       "2                       1                           0                   0   \n",
       "3                       1                           0                   0   \n",
       "4                       1                           0                   0   \n",
       "...                   ...                         ...                 ...   \n",
       "8123                    1                           0                   0   \n",
       "8124                    1                           1                   0   \n",
       "8125                    1                           0                   0   \n",
       "8126                    1                           0                   0   \n",
       "8127                    1                           0                   0   \n",
       "\n",
       "      owner_Test Drive Car  owner_Third Owner  \n",
       "0                        0                  0  \n",
       "1                        0                  0  \n",
       "2                        0                  1  \n",
       "3                        0                  0  \n",
       "4                        0                  0  \n",
       "...                    ...                ...  \n",
       "8123                     0                  0  \n",
       "8124                     0                  0  \n",
       "8125                     0                  0  \n",
       "8126                     0                  0  \n",
       "8127                     0                  0  \n",
       "\n",
       "[7906 rows x 48 columns]"
      ]
     },
     "execution_count": 59,
     "metadata": {},
     "output_type": "execute_result"
    }
   ],
   "source": [
    "data"
   ]
  },
  {
   "cell_type": "code",
   "execution_count": 60,
   "id": "8bb86dc7-cc28-45b8-851a-b749d9a74fd1",
   "metadata": {},
   "outputs": [],
   "source": [
    "data.reset_index(drop=True, inplace=True)"
   ]
  },
  {
   "cell_type": "code",
   "execution_count": 61,
   "id": "0aa96c0a-24b5-4718-a5bc-0407a20c5256",
   "metadata": {},
   "outputs": [
    {
     "data": {
      "text/html": [
       "<div>\n",
       "<style scoped>\n",
       "    .dataframe tbody tr th:only-of-type {\n",
       "        vertical-align: middle;\n",
       "    }\n",
       "\n",
       "    .dataframe tbody tr th {\n",
       "        vertical-align: top;\n",
       "    }\n",
       "\n",
       "    .dataframe thead th {\n",
       "        text-align: right;\n",
       "    }\n",
       "</style>\n",
       "<table border=\"1\" class=\"dataframe\">\n",
       "  <thead>\n",
       "    <tr style=\"text-align: right;\">\n",
       "      <th></th>\n",
       "      <th>year</th>\n",
       "      <th>selling_price</th>\n",
       "      <th>km_driven</th>\n",
       "      <th>mileage</th>\n",
       "      <th>engine</th>\n",
       "      <th>max_power</th>\n",
       "      <th>torque</th>\n",
       "      <th>seats</th>\n",
       "      <th>name_Ashok</th>\n",
       "      <th>name_Audi</th>\n",
       "      <th>...</th>\n",
       "      <th>fuel_Diesel</th>\n",
       "      <th>fuel_LPG</th>\n",
       "      <th>fuel_Petrol</th>\n",
       "      <th>seller_type_Individual</th>\n",
       "      <th>seller_type_Trustmark Dealer</th>\n",
       "      <th>transmission_Manual</th>\n",
       "      <th>owner_Fourth &amp; Above Owner</th>\n",
       "      <th>owner_Second Owner</th>\n",
       "      <th>owner_Test Drive Car</th>\n",
       "      <th>owner_Third Owner</th>\n",
       "    </tr>\n",
       "  </thead>\n",
       "  <tbody>\n",
       "    <tr>\n",
       "      <th>0</th>\n",
       "      <td>2014</td>\n",
       "      <td>450000</td>\n",
       "      <td>145500</td>\n",
       "      <td>0</td>\n",
       "      <td>1248</td>\n",
       "      <td>74</td>\n",
       "      <td>190</td>\n",
       "      <td>5</td>\n",
       "      <td>0</td>\n",
       "      <td>0</td>\n",
       "      <td>...</td>\n",
       "      <td>1</td>\n",
       "      <td>0</td>\n",
       "      <td>0</td>\n",
       "      <td>1</td>\n",
       "      <td>0</td>\n",
       "      <td>1</td>\n",
       "      <td>0</td>\n",
       "      <td>0</td>\n",
       "      <td>0</td>\n",
       "      <td>0</td>\n",
       "    </tr>\n",
       "    <tr>\n",
       "      <th>1</th>\n",
       "      <td>2014</td>\n",
       "      <td>370000</td>\n",
       "      <td>120000</td>\n",
       "      <td>0</td>\n",
       "      <td>1498</td>\n",
       "      <td>103</td>\n",
       "      <td>250</td>\n",
       "      <td>5</td>\n",
       "      <td>0</td>\n",
       "      <td>0</td>\n",
       "      <td>...</td>\n",
       "      <td>1</td>\n",
       "      <td>0</td>\n",
       "      <td>0</td>\n",
       "      <td>1</td>\n",
       "      <td>0</td>\n",
       "      <td>1</td>\n",
       "      <td>0</td>\n",
       "      <td>1</td>\n",
       "      <td>0</td>\n",
       "      <td>0</td>\n",
       "    </tr>\n",
       "    <tr>\n",
       "      <th>2</th>\n",
       "      <td>2006</td>\n",
       "      <td>158000</td>\n",
       "      <td>140000</td>\n",
       "      <td>0</td>\n",
       "      <td>1497</td>\n",
       "      <td>78</td>\n",
       "      <td>124</td>\n",
       "      <td>5</td>\n",
       "      <td>0</td>\n",
       "      <td>0</td>\n",
       "      <td>...</td>\n",
       "      <td>0</td>\n",
       "      <td>0</td>\n",
       "      <td>1</td>\n",
       "      <td>1</td>\n",
       "      <td>0</td>\n",
       "      <td>1</td>\n",
       "      <td>0</td>\n",
       "      <td>0</td>\n",
       "      <td>0</td>\n",
       "      <td>1</td>\n",
       "    </tr>\n",
       "    <tr>\n",
       "      <th>3</th>\n",
       "      <td>2010</td>\n",
       "      <td>225000</td>\n",
       "      <td>127000</td>\n",
       "      <td>0</td>\n",
       "      <td>1396</td>\n",
       "      <td>90</td>\n",
       "      <td>219</td>\n",
       "      <td>5</td>\n",
       "      <td>0</td>\n",
       "      <td>0</td>\n",
       "      <td>...</td>\n",
       "      <td>1</td>\n",
       "      <td>0</td>\n",
       "      <td>0</td>\n",
       "      <td>1</td>\n",
       "      <td>0</td>\n",
       "      <td>1</td>\n",
       "      <td>0</td>\n",
       "      <td>0</td>\n",
       "      <td>0</td>\n",
       "      <td>0</td>\n",
       "    </tr>\n",
       "    <tr>\n",
       "      <th>4</th>\n",
       "      <td>2007</td>\n",
       "      <td>130000</td>\n",
       "      <td>120000</td>\n",
       "      <td>0</td>\n",
       "      <td>1298</td>\n",
       "      <td>88</td>\n",
       "      <td>112</td>\n",
       "      <td>5</td>\n",
       "      <td>0</td>\n",
       "      <td>0</td>\n",
       "      <td>...</td>\n",
       "      <td>0</td>\n",
       "      <td>0</td>\n",
       "      <td>1</td>\n",
       "      <td>1</td>\n",
       "      <td>0</td>\n",
       "      <td>1</td>\n",
       "      <td>0</td>\n",
       "      <td>0</td>\n",
       "      <td>0</td>\n",
       "      <td>0</td>\n",
       "    </tr>\n",
       "    <tr>\n",
       "      <th>...</th>\n",
       "      <td>...</td>\n",
       "      <td>...</td>\n",
       "      <td>...</td>\n",
       "      <td>...</td>\n",
       "      <td>...</td>\n",
       "      <td>...</td>\n",
       "      <td>...</td>\n",
       "      <td>...</td>\n",
       "      <td>...</td>\n",
       "      <td>...</td>\n",
       "      <td>...</td>\n",
       "      <td>...</td>\n",
       "      <td>...</td>\n",
       "      <td>...</td>\n",
       "      <td>...</td>\n",
       "      <td>...</td>\n",
       "      <td>...</td>\n",
       "      <td>...</td>\n",
       "      <td>...</td>\n",
       "      <td>...</td>\n",
       "      <td>...</td>\n",
       "    </tr>\n",
       "    <tr>\n",
       "      <th>7901</th>\n",
       "      <td>2013</td>\n",
       "      <td>320000</td>\n",
       "      <td>110000</td>\n",
       "      <td>0</td>\n",
       "      <td>1197</td>\n",
       "      <td>82</td>\n",
       "      <td>113</td>\n",
       "      <td>5</td>\n",
       "      <td>0</td>\n",
       "      <td>0</td>\n",
       "      <td>...</td>\n",
       "      <td>0</td>\n",
       "      <td>0</td>\n",
       "      <td>1</td>\n",
       "      <td>1</td>\n",
       "      <td>0</td>\n",
       "      <td>1</td>\n",
       "      <td>0</td>\n",
       "      <td>0</td>\n",
       "      <td>0</td>\n",
       "      <td>0</td>\n",
       "    </tr>\n",
       "    <tr>\n",
       "      <th>7902</th>\n",
       "      <td>2007</td>\n",
       "      <td>135000</td>\n",
       "      <td>119000</td>\n",
       "      <td>0</td>\n",
       "      <td>1493</td>\n",
       "      <td>110</td>\n",
       "      <td>235</td>\n",
       "      <td>5</td>\n",
       "      <td>0</td>\n",
       "      <td>0</td>\n",
       "      <td>...</td>\n",
       "      <td>1</td>\n",
       "      <td>0</td>\n",
       "      <td>0</td>\n",
       "      <td>1</td>\n",
       "      <td>0</td>\n",
       "      <td>1</td>\n",
       "      <td>1</td>\n",
       "      <td>0</td>\n",
       "      <td>0</td>\n",
       "      <td>0</td>\n",
       "    </tr>\n",
       "    <tr>\n",
       "      <th>7903</th>\n",
       "      <td>2009</td>\n",
       "      <td>382000</td>\n",
       "      <td>120000</td>\n",
       "      <td>0</td>\n",
       "      <td>1248</td>\n",
       "      <td>73</td>\n",
       "      <td>190</td>\n",
       "      <td>5</td>\n",
       "      <td>0</td>\n",
       "      <td>0</td>\n",
       "      <td>...</td>\n",
       "      <td>1</td>\n",
       "      <td>0</td>\n",
       "      <td>0</td>\n",
       "      <td>1</td>\n",
       "      <td>0</td>\n",
       "      <td>1</td>\n",
       "      <td>0</td>\n",
       "      <td>0</td>\n",
       "      <td>0</td>\n",
       "      <td>0</td>\n",
       "    </tr>\n",
       "    <tr>\n",
       "      <th>7904</th>\n",
       "      <td>2013</td>\n",
       "      <td>290000</td>\n",
       "      <td>25000</td>\n",
       "      <td>0</td>\n",
       "      <td>1396</td>\n",
       "      <td>70</td>\n",
       "      <td>140</td>\n",
       "      <td>5</td>\n",
       "      <td>0</td>\n",
       "      <td>0</td>\n",
       "      <td>...</td>\n",
       "      <td>1</td>\n",
       "      <td>0</td>\n",
       "      <td>0</td>\n",
       "      <td>1</td>\n",
       "      <td>0</td>\n",
       "      <td>1</td>\n",
       "      <td>0</td>\n",
       "      <td>0</td>\n",
       "      <td>0</td>\n",
       "      <td>0</td>\n",
       "    </tr>\n",
       "    <tr>\n",
       "      <th>7905</th>\n",
       "      <td>2013</td>\n",
       "      <td>290000</td>\n",
       "      <td>25000</td>\n",
       "      <td>0</td>\n",
       "      <td>1396</td>\n",
       "      <td>70</td>\n",
       "      <td>140</td>\n",
       "      <td>5</td>\n",
       "      <td>0</td>\n",
       "      <td>0</td>\n",
       "      <td>...</td>\n",
       "      <td>1</td>\n",
       "      <td>0</td>\n",
       "      <td>0</td>\n",
       "      <td>1</td>\n",
       "      <td>0</td>\n",
       "      <td>1</td>\n",
       "      <td>0</td>\n",
       "      <td>0</td>\n",
       "      <td>0</td>\n",
       "      <td>0</td>\n",
       "    </tr>\n",
       "  </tbody>\n",
       "</table>\n",
       "<p>7906 rows × 48 columns</p>\n",
       "</div>"
      ],
      "text/plain": [
       "      year  selling_price  km_driven  mileage  engine  max_power  torque  \\\n",
       "0     2014         450000     145500        0    1248         74     190   \n",
       "1     2014         370000     120000        0    1498        103     250   \n",
       "2     2006         158000     140000        0    1497         78     124   \n",
       "3     2010         225000     127000        0    1396         90     219   \n",
       "4     2007         130000     120000        0    1298         88     112   \n",
       "...    ...            ...        ...      ...     ...        ...     ...   \n",
       "7901  2013         320000     110000        0    1197         82     113   \n",
       "7902  2007         135000     119000        0    1493        110     235   \n",
       "7903  2009         382000     120000        0    1248         73     190   \n",
       "7904  2013         290000      25000        0    1396         70     140   \n",
       "7905  2013         290000      25000        0    1396         70     140   \n",
       "\n",
       "      seats  name_Ashok  name_Audi  ...  fuel_Diesel  fuel_LPG  fuel_Petrol  \\\n",
       "0         5           0          0  ...            1         0            0   \n",
       "1         5           0          0  ...            1         0            0   \n",
       "2         5           0          0  ...            0         0            1   \n",
       "3         5           0          0  ...            1         0            0   \n",
       "4         5           0          0  ...            0         0            1   \n",
       "...     ...         ...        ...  ...          ...       ...          ...   \n",
       "7901      5           0          0  ...            0         0            1   \n",
       "7902      5           0          0  ...            1         0            0   \n",
       "7903      5           0          0  ...            1         0            0   \n",
       "7904      5           0          0  ...            1         0            0   \n",
       "7905      5           0          0  ...            1         0            0   \n",
       "\n",
       "      seller_type_Individual  seller_type_Trustmark Dealer  \\\n",
       "0                          1                             0   \n",
       "1                          1                             0   \n",
       "2                          1                             0   \n",
       "3                          1                             0   \n",
       "4                          1                             0   \n",
       "...                      ...                           ...   \n",
       "7901                       1                             0   \n",
       "7902                       1                             0   \n",
       "7903                       1                             0   \n",
       "7904                       1                             0   \n",
       "7905                       1                             0   \n",
       "\n",
       "      transmission_Manual  owner_Fourth & Above Owner  owner_Second Owner  \\\n",
       "0                       1                           0                   0   \n",
       "1                       1                           0                   1   \n",
       "2                       1                           0                   0   \n",
       "3                       1                           0                   0   \n",
       "4                       1                           0                   0   \n",
       "...                   ...                         ...                 ...   \n",
       "7901                    1                           0                   0   \n",
       "7902                    1                           1                   0   \n",
       "7903                    1                           0                   0   \n",
       "7904                    1                           0                   0   \n",
       "7905                    1                           0                   0   \n",
       "\n",
       "      owner_Test Drive Car  owner_Third Owner  \n",
       "0                        0                  0  \n",
       "1                        0                  0  \n",
       "2                        0                  1  \n",
       "3                        0                  0  \n",
       "4                        0                  0  \n",
       "...                    ...                ...  \n",
       "7901                     0                  0  \n",
       "7902                     0                  0  \n",
       "7903                     0                  0  \n",
       "7904                     0                  0  \n",
       "7905                     0                  0  \n",
       "\n",
       "[7906 rows x 48 columns]"
      ]
     },
     "execution_count": 61,
     "metadata": {},
     "output_type": "execute_result"
    }
   ],
   "source": [
    "data"
   ]
  },
  {
   "cell_type": "code",
   "execution_count": 62,
   "id": "77b52fe6-2093-4386-9924-1864194420ca",
   "metadata": {},
   "outputs": [],
   "source": [
    "kf = KFold(n_splits=5)"
   ]
  },
  {
   "cell_type": "code",
   "execution_count": 63,
   "id": "3af5f110-dd62-4a3f-9bcc-bac341827683",
   "metadata": {},
   "outputs": [],
   "source": [
    "X= data.drop('selling_price', axis=1)\n",
    "y= data['selling_price']"
   ]
  },
  {
   "cell_type": "code",
   "execution_count": 64,
   "id": "7ebcf793-07cd-4621-9b44-20b744f68613",
   "metadata": {},
   "outputs": [
    {
     "name": "stdout",
     "output_type": "stream",
     "text": [
      "[1582 1583 1584 ... 7903 7904 7905] [   0    1    2 ... 1579 1580 1581]\n",
      "[   0    1    2 ... 7903 7904 7905] [1582 1583 1584 ... 3160 3161 3162]\n",
      "[   0    1    2 ... 7903 7904 7905] [3163 3164 3165 ... 4741 4742 4743]\n",
      "[   0    1    2 ... 7903 7904 7905] [4744 4745 4746 ... 6322 6323 6324]\n",
      "[   0    1    2 ... 6322 6323 6324] [6325 6326 6327 ... 7903 7904 7905]\n"
     ]
    }
   ],
   "source": [
    "for i,j in kf.split(X):\n",
    "    print(i,j)"
   ]
  },
  {
   "cell_type": "code",
   "execution_count": 65,
   "id": "cd57ebdd-bb2a-47fb-8fec-547aeadb47d5",
   "metadata": {},
   "outputs": [],
   "source": [
    "for train_index, test_index in kf.split(X):\n",
    "    X_train, X_test = X.loc[train_index],X.loc[test_index]\n",
    "    y_train, y_test = y[train_index], y[test_index]"
   ]
  },
  {
   "cell_type": "code",
   "execution_count": 72,
   "id": "b1a92fa1-9411-4bc4-87b9-bc4ce1f97201",
   "metadata": {},
   "outputs": [],
   "source": [
    "train_rmse_total = []  # ✅ 반복문 외부에서 리스트 초기화\n",
    "test_rmse_total = []\n",
    "\n",
    "for train_index, test_index in kf.split(X):\n",
    "    X_train, X_test = X.loc[train_index], X.loc[test_index]\n",
    "    y_train, y_test = y.iloc[train_index], y.iloc[test_index]\n",
    "\n",
    "    model = RandomForestRegressor(n_estimators=100, random_state=100)\n",
    "    model.fit(X_train, y_train)\n",
    "    \n",
    "    train_pred = model.predict(X_train)\n",
    "    test_pred = model.predict(X_test)\n",
    "\n",
    "    train_rmse = mean_squared_error(y_train, train_pred, squared=False)\n",
    "    test_rmse = mean_squared_error(y_test, test_pred, squared=False)\n",
    "\n",
    "    train_rmse_total.append(train_rmse) \n",
    "    test_rmse_total.append(test_rmse)\n"
   ]
  },
  {
   "cell_type": "code",
   "execution_count": 73,
   "id": "1fb062b9-6387-456a-b943-4d688c676769",
   "metadata": {},
   "outputs": [
    {
     "data": {
      "text/plain": [
       "[53090.1837691973,\n",
       " 60752.476865941244,\n",
       " 59750.91028782172,\n",
       " 58618.01013804103,\n",
       " 61499.857073971856]"
      ]
     },
     "execution_count": 73,
     "metadata": {},
     "output_type": "execute_result"
    }
   ],
   "source": [
    "train_rmse_total"
   ]
  },
  {
   "cell_type": "code",
   "execution_count": 75,
   "id": "9912aba1-8047-437e-b8e5-b1a5d916e0c2",
   "metadata": {},
   "outputs": [
    {
     "name": "stdout",
     "output_type": "stream",
     "text": [
      "train-rmse: 58742.287626994636 test_rmse_total: 144826.15785806763\n"
     ]
    }
   ],
   "source": [
    "print(\"train-rmse:\", sum(train_rmse_total)/5, \"test_rmse_total:\", sum(test_rmse_total)/5)\n",
    "\n",
    "# 교차검증 사용하기 전과 약간의 차이가 보이며 전반적으로 RMSE가 더 올라간 모습이며 교차검증을 사용한 결과가 조금 더 정확하다"
   ]
  },
  {
   "cell_type": "code",
   "execution_count": null,
   "id": "b3fcbe0f-206c-4c80-bc91-3c4697d9ba33",
   "metadata": {},
   "outputs": [],
   "source": []
  }
 ],
 "metadata": {
  "kernelspec": {
   "display_name": "Python 3 (ipykernel)",
   "language": "python",
   "name": "python3"
  },
  "language_info": {
   "codemirror_mode": {
    "name": "ipython",
    "version": 3
   },
   "file_extension": ".py",
   "mimetype": "text/x-python",
   "name": "python",
   "nbconvert_exporter": "python",
   "pygments_lexer": "ipython3",
   "version": "3.8.5"
  }
 },
 "nbformat": 4,
 "nbformat_minor": 5
}
